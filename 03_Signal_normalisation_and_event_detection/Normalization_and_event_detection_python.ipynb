{
 "cells": [
  {
   "cell_type": "markdown",
   "id": "ba5e32db",
   "metadata": {},
   "source": [
    "## Normalization"
   ]
  },
  {
   "cell_type": "markdown",
   "id": "ba573d14",
   "metadata": {},
   "source": [
    "### Initialization"
   ]
  },
  {
   "cell_type": "code",
   "execution_count": 1,
   "id": "67d0fb1c",
   "metadata": {},
   "outputs": [],
   "source": [
    "import numpy as np\n",
    "import scipy.io\n",
    "import matplotlib.pyplot as plt\n",
    "from scipy.signal import savgol_filter\n",
    "\n",
    "\n",
    "# initialize parameters\n",
    "selectchannel=19 # channel 20 (python index from 0 )is Cz\n",
    "baselinelength=300 #in data point"
   ]
  },
  {
   "cell_type": "markdown",
   "id": "caedf25d",
   "metadata": {},
   "source": [
    "### Load Data\n",
    "\n",
    "The EEG and EMG signals are collected, while the subject stands on a balance beam tring to regain balance when perturbation events triggerd. The channel 20 of the EEG is analysised. The alpha and beta are pre-processed two signal bands on 8-12 Hz and 15-20 Hz respectively. ind is time stamp of the perturbation event.\n",
    "\n",
    "epochnum is the number of events.\n",
    "\n",
    "EMGdata: 6268808x2\n",
    "fdata_alpha: 6268808x34\n",
    "fdata_beata: 6268808x34\n",
    "\n"
   ]
  },
  {
   "cell_type": "code",
   "execution_count": 2,
   "id": "d152ac59",
   "metadata": {},
   "outputs": [],
   "source": [
    "mat_data = scipy.io.loadmat('EEGdata')\n",
    "\n",
    "fdata_alpha = mat_data['fdata_alpha']\n",
    "fdata_beta = mat_data['fdata_beta']\n",
    "\n",
    "ind = np.squeeze(mat_data['ind'])\n",
    "\n",
    "epochnum = len(ind)\n",
    "channelNo = fdata_alpha.shape[1]"
   ]
  },
  {
   "cell_type": "markdown",
   "id": "383dde42",
   "metadata": {},
   "source": [
    "### Normalize data\n",
    "\n",
    "Normalize both alpha band and beta band, Use mean data as the baseline\n",
    "\n",
    "$$\n",
    "E R D / E R S(\\%)=\\frac{\\text { Signal }_{\\text {power }}-\\text { baseline }_{\\text {power }}}{\\text { baseline }_{\\text {power }}} \\times 100 \\%\n",
    "$$"
   ]
  },
  {
   "cell_type": "code",
   "execution_count": 3,
   "id": "622dcd89",
   "metadata": {},
   "outputs": [],
   "source": [
    "# EEG epoch data\n",
    "\n",
    "for band in range(2):\n",
    "    if band == 0:\n",
    "        ffdata = fdata_alpha\n",
    "    elif band == 1:\n",
    "        ffdata = fdata_beta\n",
    "\n",
    "    # cut epoch\n",
    "    epoch = np.zeros((epochnum, 1000+baselinelength, channelNo))\n",
    "\n",
    "    for i in range(epochnum):\n",
    "        epoch[i,:,:] = ffdata[ind[i]-baselinelength:ind[i]+1000,:]\n",
    "\n",
    "    # ERD/ERS  (Event related, disynchonization)\n",
    "\n",
    "    y = np.zeros((epochnum, 1000+baselinelength, channelNo))    \n",
    "    for i in range(epochnum):\n",
    "        for j in range(channelNo):\n",
    "            y[i,:,j] =(epoch[i,:,j] - np.mean(epoch[:,:,j],0))**2\n",
    "            y[i,:,j] = (y[i,:,j]/np.mean(y[i,:baselinelength,j]))*100\n",
    "        \n",
    "    if band==0:\n",
    "        ER_alpha = np.mean(y,0)\n",
    "    elif band==1:   \n",
    "        ER_beta = np.mean(y,0)"
   ]
  },
  {
   "cell_type": "markdown",
   "id": "e2fe9a65",
   "metadata": {},
   "source": [
    "### Plot\n",
    "Plot the normalized and averaged data on both alpha and beta bands with the tigger event"
   ]
  },
  {
   "cell_type": "code",
   "execution_count": 4,
   "id": "7bcfca0b",
   "metadata": {},
   "outputs": [],
   "source": [
    "def moving_average(x, w):\n",
    "    return np.convolve(x, np.ones(w), 'valid') / w"
   ]
  },
  {
   "cell_type": "code",
   "execution_count": 7,
   "id": "bcaab4a5",
   "metadata": {},
   "outputs": [
    {
     "data": {
      "image/png": "[encoded data removed]",
      "text/plain": [
       "<Figure size 432x288 with 1 Axes>"
      ]
     },
     "metadata": {
      "needs_background": "light"
     },
     "output_type": "display_data"
    }
   ],
   "source": [
    "# tmp_alpha = ER_alpha[:,selectchannel]\n",
    "# tmp_beta = ER_beta[:,selectchannel]\n",
    "\n",
    "# tmp_alpha=savgol_filter(ER_alpha[:,selectchannel],50,2)\n",
    "# tmp_beta=savgol_filter(ER_beta[:,selectchannel],50,2)\n",
    "\n",
    "tmp_alpha = moving_average(ER_alpha[:,selectchannel],50)\n",
    "tmp_beta = moving_average(ER_beta[:,selectchannel],50)\n",
    "\n",
    "\n",
    "\n",
    "plt.figure()\n",
    "plt.plot(tmp_alpha,'b', label='alpha')\n",
    "plt.plot(tmp_beta,'r', label='beta')\n",
    "plt.plot([baselinelength,baselinelength],[np.min([tmp_alpha, tmp_beta])-100, np.max([tmp_alpha,tmp_beta])],'r--')\n",
    "plt.title('Channel '+str(selectchannel+1))\n",
    "plt.legend()\n",
    "\n",
    "plt.show()"
   ]
  },
  {
   "cell_type": "markdown",
   "id": "62870f47",
   "metadata": {},
   "source": [
    "## Event Detection"
   ]
  },
  {
   "cell_type": "markdown",
   "id": "158c77ac",
   "metadata": {},
   "source": [
    "### Initialization"
   ]
  },
  {
   "cell_type": "code",
   "execution_count": 14,
   "id": "df968899",
   "metadata": {},
   "outputs": [],
   "source": [
    "from threading import local\n",
    "import numpy as np\n",
    "import scipy.io\n",
    "import matplotlib.pyplot as plt\n",
    "from filters import filter_2sIIR, filter_2sFIR"
   ]
  },
  {
   "cell_type": "code",
   "execution_count": 8,
   "id": "a0200dc0",
   "metadata": {},
   "outputs": [],
   "source": [
    "DispCh = 1   # select a channel to display  \n",
    "SampleRate = 2000 #in Hz\n",
    "\n",
    "Res_MagThres = 1 # the threshold of res. band magnitude\n",
    "EMG_BPcutooff = [70, 500]  # cutoff frequency of bandpass filter, in Hz\n",
    "EMG_Lcutoff = 4          # cutoff frequency of lowpass filter, in Hz\n",
    "\n"
   ]
  },
  {
   "cell_type": "markdown",
   "id": "39eb9b76",
   "metadata": {},
   "source": [
    "### Load Data\n",
    "\n",
    "Reperation data (Resdata) and the corresponding EMG data (EMGdata) are collected.\n",
    "\n",
    "* EMGdata in channel 1-4\n",
    "* Resdata in channel 5\n",
    "\n"
   ]
  },
  {
   "cell_type": "code",
   "execution_count": 9,
   "id": "b5e6423b",
   "metadata": {},
   "outputs": [],
   "source": [
    "mat_data = scipy.io.loadmat('EMGdata.mat')\n",
    "\n",
    "data = mat_data['data']\n",
    "\n",
    "EMGdata=data[:,:4]\n",
    "Resdata=data[:,4]"
   ]
  },
  {
   "cell_type": "markdown",
   "id": "5a1313ce",
   "metadata": {},
   "source": [
    "### Peak value detect\n",
    "\n",
    "1. Remove DC offset by substract the mean value below 0\n",
    "2. Use threshold_1 to get the data above the threshold.\n",
    "3. Get gap index\n",
    "4. Get maxium index of the original data skip gaps\n",
    "> pay attention to the boundary conditions\n"
   ]
  },
  {
   "cell_type": "code",
   "execution_count": 10,
   "id": "b5c394cb",
   "metadata": {},
   "outputs": [],
   "source": [
    "# detect the peak value of each resp. cycle using signal of resp. band\n",
    "\n",
    "oResdata = Resdata - np.mean(Resdata[Resdata<0]) # remove DC\n",
    "\n",
    "\n",
    "\n",
    "#  perform double-threshold method to detect peak value\n",
    "# threshold 1: magnitude\n",
    "\n",
    "(indmag,)=np.nonzero(oResdata>1)    #find the index with value larger than 1\n",
    "\n",
    "# threshold 2: define window\n",
    "\n",
    "diffind=indmag[1:]-indmag[:-1]\n",
    "(indgap,)=np.nonzero(diffind>1)\n",
    "\n",
    "indmax=[]   # the location of index with maximal value in each cycle\n",
    "\n",
    "\n",
    "for i in range(len(indgap)+1):\n",
    "    if i==0:\n",
    "        local_index = np.argmax(oResdata[indmag[:indgap[i]]])  #be careful with index!!!!!\n",
    "        indmax.append(local_index+indmag[0])\n",
    "    elif i == len(indgap):\n",
    "        local_index = np.argmax(oResdata[indmag[indgap[i-1]+1:]])\n",
    "        indmax.append(local_index + indmag[indgap[i-1]+1])\n",
    "    else:\n",
    "        local_index = np.argmax(oResdata[indmag[indgap[i-1]+1:indgap[i]]])\n",
    "        indmax.append(local_index + indmag[indgap[i-1]+1])"
   ]
  },
  {
   "cell_type": "markdown",
   "id": "40157354",
   "metadata": {},
   "source": [
    "### Filters\n",
    "bandpass filter, rectify, lowpass filter"
   ]
  },
  {
   "cell_type": "code",
   "execution_count": 50,
   "id": "b6e0df51",
   "metadata": {},
   "outputs": [],
   "source": [
    "fEMGdata = filter_2sIIR(EMGdata.T,EMG_BPcutooff,SampleRate,6, \"bandpass\" )\n",
    "rfEMGdata = abs(fEMGdata)\n",
    "frfEMGdata = filter_2sIIR(rfEMGdata, EMG_Lcutoff, SampleRate,6,\"lowpass\" )\n",
    "pfrfEMGdata=frfEMGdata[DispCh,:]/np.max(frfEMGdata[DispCh:])*100   # percentage"
   ]
  },
  {
   "cell_type": "code",
   "execution_count": 51,
   "id": "6e8a12e9",
   "metadata": {},
   "outputs": [
    {
     "data": {
      "text/plain": [
       "Text(0.5, 0, 'time (s)')"
      ]
     },
     "execution_count": 51,
     "metadata": {},
     "output_type": "execute_result"
    },
    {
     "data": {
      "image/png": "[encoded data removed]",
      "text/plain": [
       "<Figure size 432x288 with 5 Axes>"
      ]
     },
     "metadata": {
      "needs_background": "light"
     },
     "output_type": "display_data"
    }
   ],
   "source": [
    "taxis = np.arange(data.shape[0])/SampleRate # define the time axis based on the data length and sampling rate\n",
    "\n",
    "plt.figure() \n",
    "plt.subplot(5,1,1)\n",
    "plt.plot(taxis,EMGdata[:,DispCh]) # original signal\n",
    "plt.ylabel('original')\n",
    "\n",
    "plt.subplot(5,1,2)\n",
    "plt.plot(taxis,fEMGdata[DispCh,:]) # bandpass filtered signal\n",
    "plt.ylabel('bandpass filtered')\n",
    "\n",
    "plt.subplot(5,1,3)\n",
    "plt.plot(taxis,rfEMGdata[DispCh,:]) # rectified signal\n",
    "plt.ylabel('rectified')\n",
    "\n",
    "plt.subplot(5,1,4)\n",
    "plt.plot(taxis,frfEMGdata[DispCh,:]) # lowpass filtered signal\n",
    "plt.ylabel('lowpass filtered')\n",
    "\n",
    "plt.subplot(5,1,5)\n",
    "plt.plot(taxis,pfrfEMGdata) # percentage signal\n",
    "plt.ylabel('Percentage')\n",
    "plt.xlabel('time (s)')\n"
   ]
  },
  {
   "cell_type": "markdown",
   "id": "e31f74a3",
   "metadata": {},
   "source": [
    "### Plot the data"
   ]
  },
  {
   "cell_type": "code",
   "execution_count": 52,
   "id": "72a8ff1b",
   "metadata": {},
   "outputs": [
    {
     "data": {
      "image/png": "[encoded data removed]",
      "text/plain": [
       "<Figure size 432x288 with 1 Axes>"
      ]
     },
     "metadata": {
      "needs_background": "light"
     },
     "output_type": "display_data"
    },
    {
     "data": {
      "image/png": "[encoded data removed]",
      "text/plain": [
       "<Figure size 432x288 with 1 Axes>"
      ]
     },
     "metadata": {
      "needs_background": "light"
     },
     "output_type": "display_data"
    }
   ],
   "source": [
    "plt.figure()\n",
    "plt.subplot(2,1,1)\n",
    "plt.plot(taxis,pfrfEMGdata)\n",
    "\n",
    "for i in range(len(indmax)):\n",
    "    plt.plot([taxis[indmax[i]],taxis[indmax[i]]], [np.min(pfrfEMGdata),np.max(pfrfEMGdata)], 'r--')\n",
    "    plt.ylabel(\"Res. band\")\n",
    "    plt.xlabel(\"time (s)\")\n",
    "\n",
    "plt.subplot(2,1,2)\n",
    "plt.plot(taxis, oResdata)\n",
    "\n",
    "for i in range(len(indmax)):\n",
    "    plt.plot([taxis[indmax[i]],taxis[indmax[i]]], [np.min(oResdata),np.max(oResdata)], 'r--')\n",
    "    plt.ylabel(\"Res. band\")\n",
    "    plt.xlabel(\"time (s)\")\n",
    "\n",
    "plt.show()"
   ]
  },
  {
   "cell_type": "code",
   "execution_count": null,
   "id": "d042a8d6",
   "metadata": {},
   "outputs": [],
   "source": []
  }
 ],
 "metadata": {
  "kernelspec": {
   "display_name": "Python 3 (ipykernel)",
   "language": "python",
   "name": "python3"
  },
  "language_info": {
   "codemirror_mode": {
    "name": "ipython",
    "version": 3
   },
   "file_extension": ".py",
   "mimetype": "text/x-python",
   "name": "python",
   "nbconvert_exporter": "python",
   "pygments_lexer": "ipython3",
   "version": "3.8.13"
  },
  "toc": {
   "base_numbering": 1,
   "nav_menu": {},
   "number_sections": true,
   "sideBar": true,
   "skip_h1_title": false,
   "title_cell": "Table of Contents",
   "title_sidebar": "Contents",
   "toc_cell": false,
   "toc_position": {},
   "toc_section_display": true,
   "toc_window_display": false
  },
  "varInspector": {
   "cols": {
    "lenName": 16,
    "lenType": 16,
    "lenVar": 40
   },
   "kernels_config": {
    "python": {
     "delete_cmd_postfix": "",
     "delete_cmd_prefix": "del ",
     "library": "var_list.py",
     "varRefreshCmd": "print(var_dic_list())"
    },
    "r": {
     "delete_cmd_postfix": ") ",
     "delete_cmd_prefix": "rm(",
     "library": "var_list.r",
     "varRefreshCmd": "cat(var_dic_list()) "
    }
   },
   "position": {
    "height": "773.844px",
    "left": "951px",
    "right": "20px",
    "top": "120px",
    "width": "563px"
   },
   "types_to_exclude": [
    "module",
    "function",
    "builtin_function_or_method",
    "instance",
    "_Feature"
   ],
   "window_display": true
  }
 },
 "nbformat": 4,
 "nbformat_minor": 5
}
