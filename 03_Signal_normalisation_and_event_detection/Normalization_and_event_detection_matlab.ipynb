{
 "cells": [
  {
   "cell_type": "markdown",
   "id": "ccbe0359",
   "metadata": {},
   "source": [
    "## Normalization"
   ]
  },
  {
   "cell_type": "markdown",
   "id": "ba573d14",
   "metadata": {},
   "source": [
    "### Initialization"
   ]
  },
  {
   "cell_type": "code",
   "execution_count": null,
   "id": "67d0fb1c",
   "metadata": {},
   "outputs": [],
   "source": [
    "%% Author: Lu, Chia-Feng 2013.10.23\n",
    "clear, close all\n",
    "\n",
    "%% initialize parameters\n",
    "selectchannel=20; % channel 20 is Cz\n",
    "baselinelength=300; % in data point the points before the event"
   ]
  },
  {
   "cell_type": "markdown",
   "id": "caedf25d",
   "metadata": {},
   "source": [
    "### Load Data\n",
    "\n",
    "The EEG and EMG signals are collected, while the subject stands on a balance beam tring to regain balance when perturbation events triggerd. The channel 20 of the EEG is analysised. The alpha and beta are pre-processed two signal bands on 8-12 Hz and 15-20 Hz respectively. ind is time stamp of the perturbation event.\n",
    "\n",
    "epochnum is the number of events.\n",
    "\n",
    "EMGdata: 6268808x2\n",
    "fdata_alpha: 6268808x34\n",
    "fdata_beata: 6268808x34\n",
    "\n"
   ]
  },
  {
   "cell_type": "code",
   "execution_count": null,
   "id": "d152ac59",
   "metadata": {},
   "outputs": [],
   "source": [
    "load('EEGdata.mat')\n",
    "\n",
    "epochnum=length(ind);\n",
    "channelNo=size(fdata_alpha,2);"
   ]
  },
  {
   "cell_type": "markdown",
   "id": "383dde42",
   "metadata": {},
   "source": [
    "### Normalize data\n",
    "\n",
    "Normalize both alpha band and beta band, Use mean data as the baseline\n",
    "\n",
    "$$\n",
    "E R D / E R S(\\%)=\\frac{\\text { Signal }_{\\text {power }}-\\text { baseline }_{\\text {power }}}{\\text { baseline }_{\\text {power }}} \\times 100 \\%\n",
    "$$"
   ]
  },
  {
   "cell_type": "code",
   "execution_count": null,
   "id": "622dcd89",
   "metadata": {},
   "outputs": [],
   "source": [
    "%% EEG epoch data\n",
    "for band=1:2\n",
    "    if band==1\n",
    "        ffdata=fdata_alpha;  % alpha band\n",
    "    elseif band==2\n",
    "        ffdata=fdata_beta;   % beta band\n",
    "    end\n",
    "    \n",
    "    %%% cut epoch\n",
    "    epoch=zeros(epochnum,1000+baselinelength,channelNo);\n",
    "    for i=1:epochnum\n",
    "        epoch(i,:,:)=ffdata(ind(i)-baselinelength:ind(i)+1000-1,:);\n",
    "    end\n",
    "    \n",
    "    %%% calculate ERD/ERS\n",
    "    for i=1:epochnum       % for ith trial\n",
    "        for j=1:channelNo  % jth channel\n",
    "            y(i,:,j)= (epoch(i,:,j)-mean(epoch(:,:,j),1)).^2;\n",
    "            y(i,:,j)= y(i,:,j)/mean(y(i,1:baselinelength,j))*100;\n",
    "        end\n",
    "    end\n",
    "    \n",
    "    if band==1\n",
    "        ER_alpha=squeeze(mean(y,1)); % mean on dim 1 (trials)\n",
    "    elseif band==2\n",
    "        ER_beta=squeeze(mean(y,1));\n",
    "    end\n",
    "end\n"
   ]
  },
  {
   "cell_type": "markdown",
   "id": "7b01c67b",
   "metadata": {},
   "source": [
    "### Plot\n",
    "Plot the normalized and averaged data on both alpha and beta bands with the tigger event"
   ]
  },
  {
   "cell_type": "code",
   "execution_count": null,
   "id": "bcaab4a5",
   "metadata": {},
   "outputs": [],
   "source": [
    "\n",
    "%% plot results of selected channel\n",
    "figure,\n",
    "\n",
    "% sooth() function is moving averaging the data with a window lenth \n",
    "\n",
    "tmp_alpha=smooth(ER_alpha(:,selectchannel),50);\n",
    "tmp_beta=smooth(ER_beta(:,selectchannel),50);\n",
    "\n",
    "% tmp_alpha=ER_alpha(:,selectchannel);\n",
    "% tmp_beta=ER_beta(:,selectchannel);\n",
    "\n",
    "\n",
    "plot(tmp_alpha,'color','b'),hold on,\n",
    "plot(tmp_beta,'color','r')\n",
    "plot([baselinelength baselinelength],[min([tmp_alpha; tmp_beta])-100 max([tmp_alpha; tmp_beta])],'r')\n",
    "title(chlabel{selectchannel})"
   ]
  },
  {
   "cell_type": "markdown",
   "id": "c62191e2",
   "metadata": {},
   "source": [
    "## Event Detection"
   ]
  },
  {
   "cell_type": "markdown",
   "id": "e36d9634",
   "metadata": {},
   "source": [
    "### Initialization"
   ]
  },
  {
   "cell_type": "code",
   "execution_count": 1,
   "id": "1b18f597",
   "metadata": {},
   "outputs": [
    {
     "name": "stdout",
     "output_type": "stream",
     "text": [
      "\n"
     ]
    }
   ],
   "source": [
    "%% Author: Lu, Chia-Feng 2013.10.23\n",
    "clear, close all\n",
    "\n",
    "%% initialize parameters\n",
    "DispCh = 2;   % select a channel to display  \n",
    "SampleRate = 2000; % in Hz\n",
    "\n",
    "Res_MagThres = 1; % the threshold of res. band magnitude\n",
    "\n",
    "EMG_BPcutooff = [70 500];  % cutoff frequency of bandpass filter, in Hz\n",
    "EMG_Lcutoff = 4;           % cutoff frequency of lowpass filter, in Hz\n"
   ]
  },
  {
   "cell_type": "markdown",
   "id": "1c9d5fe1",
   "metadata": {},
   "source": [
    "### Load Data\n",
    "\n",
    "Reperation data (Resdata) and the corresponding EMG data (EMGdata) are collected.\n",
    "\n",
    "* EMGdata in channel 1-4\n",
    "* Resdata in channel 5\n",
    "\n"
   ]
  },
  {
   "cell_type": "code",
   "execution_count": 2,
   "id": "0daa9c8b",
   "metadata": {},
   "outputs": [
    {
     "name": "stdout",
     "output_type": "stream",
     "text": [
      "\n"
     ]
    }
   ],
   "source": [
    "load('EMGdata.mat')\n",
    "% data is size of timepoints*channels(4 EMG and 1 respration band)\n",
    "EMGdata=data(:,1:4);\n",
    "Resdata=data(:,5);\n"
   ]
  },
  {
   "cell_type": "markdown",
   "id": "c06d3be4",
   "metadata": {},
   "source": [
    "### Peak value detect\n",
    "\n",
    "1. Remove DC offset by substract the mean value below 0\n",
    "2. Use threshold_1 to get the data above the threshold.\n",
    "3. Get gap index\n",
    "4. Get maxium index of the original data skip gaps\n",
    "> pay attention to the boundary conditions\n"
   ]
  },
  {
   "cell_type": "code",
   "execution_count": 3,
   "id": "8e2b91bd",
   "metadata": {},
   "outputs": [
    {
     "name": "stdout",
     "output_type": "stream",
     "text": [
      "\n"
     ]
    }
   ],
   "source": [
    "%% detect the peak value of each resp. cycle using signal of resp. band\n",
    "oResdata=Resdata-mean(Resdata(find(Resdata<0))); % remove DC offset\n",
    "\n",
    "%%% perform double-threshold method to detect peak value\n",
    "% threshold 1: magnitude\n",
    "indmag=find(oResdata>=1);    % find the index with value larger than 1\n",
    "\n",
    "% threshold 2: define window\n",
    "diffind=indmag(2:end)-indmag(1:end-1);\n",
    "indgap=find(diffind>1);\n",
    "\n",
    "indmax=[];   % the location of index with maximal value in each cycle\n",
    "for i=1:length(indgap)+1\n",
    "    if i==1\n",
    "        period=indmag(1:indgap(1));\n",
    "    elseif i==length(indgap)+1    \n",
    "        period=indmag(indgap(i-1)+1:end);\n",
    "    else\n",
    "        period=indmag(indgap(i-1)+1:indgap(i));\n",
    "    end\n",
    "    [value,ind]=max(oResdata(period));\n",
    "    indmax(i)=period(ind(1));\n",
    "end"
   ]
  },
  {
   "cell_type": "markdown",
   "id": "43e830a7",
   "metadata": {},
   "source": [
    "### Bandpass filtering the data"
   ]
  },
  {
   "cell_type": "code",
   "execution_count": 4,
   "id": "cb9a387d",
   "metadata": {},
   "outputs": [
    {
     "name": "stdout",
     "output_type": "stream",
     "text": [
      "\n"
     ]
    }
   ],
   "source": [
    "%% bandpass filter, rectify, lowpass filter\n",
    "fEMGdata=filter_proc(EMGdata',SampleRate,EMG_BPcutooff,3)';       % bandpass filter \n",
    "rfEMGdata=abs(fEMGdata);                                          % rectify\n",
    "frfEMGdata=filter_proc(rfEMGdata',SampleRate,EMG_Lcutoff,1)';     % lowpass filter \n",
    "pfrfEMGdata=frfEMGdata(:,DispCh)/max(frfEMGdata(:,DispCh))*100;   % percentage"
   ]
  },
  {
   "cell_type": "markdown",
   "id": "f8a49a0c",
   "metadata": {},
   "source": [
    "### Plot the data"
   ]
  },
  {
   "cell_type": "code",
   "execution_count": 5,
   "id": "49629efb",
   "metadata": {},
   "outputs": [
    {
     "name": "stdout",
     "output_type": "stream",
     "text": [
      "\n"
     ]
    },
    {
     "data": {
      "image/png": "[encoded data removed]",
      "text/plain": [
       "<IPython.core.display.Image object>"
      ]
     },
     "metadata": {},
     "output_type": "display_data"
    },
    {
     "data": {
      "image/png": "[encoded data removed]",
      "text/plain": [
       "<IPython.core.display.Image object>"
      ]
     },
     "metadata": {},
     "output_type": "display_data"
    }
   ],
   "source": [
    "%% plot the processed signals\n",
    "taxis = [1:size(data,1)]/SampleRate; % define the time axis based on the data length and sampling rate\n",
    "\n",
    "figure, \n",
    "subplot(5,1,1),plot(taxis,EMGdata(:,DispCh)) % original signal\n",
    "ylabel('original'),xlim([min(taxis) max(taxis)])\n",
    "subplot(5,1,2),plot(taxis,fEMGdata(:,DispCh)) % bandpass filtered signal\n",
    "ylabel('bandpass filtered'),xlim([min(taxis) max(taxis)])\n",
    "subplot(5,1,3),plot(taxis,rfEMGdata(:,DispCh)) % rectified signal\n",
    "ylabel('rectified'),xlim([min(taxis) max(taxis)])\n",
    "subplot(5,1,4),plot(taxis,frfEMGdata(:,DispCh)) % lowpass filtered signal\n",
    "ylabel('lowpass filtered'),xlim([min(taxis) max(taxis)])\n",
    "subplot(5,1,5),plot(taxis,pfrfEMGdata) % percentage signal\n",
    "ylabel('Percentage'),xlabel('time (s)'),xlim([min(taxis) max(taxis)])\n",
    "\n",
    "figure, \n",
    "subplot(2,1,1),plot(taxis,pfrfEMGdata), hold on\n",
    "for i=1:length(indmax)\n",
    "    plot([taxis(indmax(i)) taxis(indmax(i))],[min(pfrfEMGdata) max(pfrfEMGdata)],'r--','linewidth',2) % plot the location of index with maximal value in each cycle \n",
    "end\n",
    "ylabel('Percentage EMG'),xlim([min(taxis) max(taxis)])\n",
    "subplot(2,1,2),plot(taxis,oResdata),hold on, %plot(taxis,Resdata,'r')\n",
    "for i=1:length(indmax)\n",
    "    plot([taxis(indmax(i)) taxis(indmax(i))],[min(oResdata) max(oResdata)],'r--','linewidth',2)       % plot the location of index with maximal value in each cycle\n",
    "end\n",
    "ylabel('Res. band'),xlabel('time (s)'),xlim([min(taxis) max(taxis)])"
   ]
  },
  {
   "cell_type": "code",
   "execution_count": null,
   "id": "fa80ecb8",
   "metadata": {},
   "outputs": [],
   "source": []
  }
 ],
 "metadata": {
  "kernelspec": {
   "display_name": "Matlab",
   "language": "matlab",
   "name": "matlab"
  },
  "language_info": {
   "codemirror_mode": "octave",
   "file_extension": ".m",
   "help_links": [
    {
     "text": "MetaKernel Magics",
     "url": "https://metakernel.readthedocs.io/en/latest/source/README.html"
    }
   ],
   "mimetype": "text/x-octave",
   "name": "matlab",
   "version": "0.17.1"
  },
  "toc": {
   "base_numbering": 1,
   "nav_menu": {},
   "number_sections": true,
   "sideBar": true,
   "skip_h1_title": false,
   "title_cell": "Table of Contents",
   "title_sidebar": "Contents",
   "toc_cell": false,
   "toc_position": {},
   "toc_section_display": true,
   "toc_window_display": false
  },
  "varInspector": {
   "cols": {
    "lenName": 16,
    "lenType": 16,
    "lenVar": 40
   },
   "kernels_config": {
    "python": {
     "delete_cmd_postfix": "",
     "delete_cmd_prefix": "del ",
     "library": "var_list.py",
     "varRefreshCmd": "print(var_dic_list())"
    },
    "r": {
     "delete_cmd_postfix": ") ",
     "delete_cmd_prefix": "rm(",
     "library": "var_list.r",
     "varRefreshCmd": "cat(var_dic_list()) "
    }
   },
   "types_to_exclude": [
    "module",
    "function",
    "builtin_function_or_method",
    "instance",
    "_Feature"
   ],
   "window_display": false
  }
 },
 "nbformat": 4,
 "nbformat_minor": 5
}
