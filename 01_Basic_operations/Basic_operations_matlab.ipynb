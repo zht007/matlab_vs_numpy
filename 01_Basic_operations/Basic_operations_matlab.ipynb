{
 "cells": [
  {
   "cell_type": "markdown",
   "id": "e7fbbd81",
   "metadata": {},
   "source": [
    "### Initialization\n",
    "no Initialization required"
   ]
  },
  {
   "cell_type": "markdown",
   "id": "f89c2429",
   "metadata": {},
   "source": [
    "### Scalar and Tensor"
   ]
  },
  {
   "cell_type": "markdown",
   "id": "c0132752",
   "metadata": {},
   "source": [
    "#### Creation"
   ]
  },
  {
   "cell_type": "code",
   "execution_count": 1,
   "id": "317c66b0",
   "metadata": {},
   "outputs": [
    {
     "name": "stdout",
     "output_type": "stream",
     "text": [
      "\n",
      "a =\n",
      "\n",
      "   12.3000\n",
      "\n",
      "\n",
      "ans =\n",
      "\n",
      "     2\n",
      "\n",
      "\n",
      "ans =\n",
      "\n",
      "     1\n",
      "\n",
      "\n",
      "ans =\n",
      "\n",
      "     1     1\n",
      "\n",
      "\n"
     ]
    }
   ],
   "source": [
    "% dim= 2\n",
    "a = [12.3]\n",
    "ndims(a)\n",
    "numel(a)\n",
    "size(a)"
   ]
  },
  {
   "cell_type": "code",
   "execution_count": 2,
   "id": "360cc3de",
   "metadata": {},
   "outputs": [
    {
     "name": "stdout",
     "output_type": "stream",
     "text": [
      "\n",
      "aa =\n",
      "\n",
      "     1     2     3\n",
      "     4     5     6\n",
      "     7     8     9\n",
      "\n",
      "\n",
      "ans =\n",
      "\n",
      "     2\n",
      "\n",
      "\n",
      "ans =\n",
      "\n",
      "     9\n",
      "\n",
      "\n",
      "ans =\n",
      "\n",
      "     3     3\n",
      "\n",
      "\n"
     ]
    }
   ],
   "source": [
    "% dim = 2\n",
    "aa = [1 2 3;4 5 6; 7 8 9]\n",
    "ndims(aa)\n",
    "numel(aa)\n",
    "size(aa)"
   ]
  },
  {
   "cell_type": "code",
   "execution_count": 11,
   "id": "51f7cd02",
   "metadata": {},
   "outputs": [
    {
     "name": "stdout",
     "output_type": "stream",
     "text": [
      "\n",
      "ans =\n",
      "\n",
      "     1     2     3     4     5     6     7     8     9    10\n",
      "\n",
      "\n",
      "ans =\n",
      "\n",
      "     1     4     7    10\n",
      "\n",
      "\n",
      "ans =\n",
      "\n",
      "    10     7     4     1\n",
      "\n",
      "\n"
     ]
    }
   ],
   "source": [
    "1:10\n",
    "1:3:10\n",
    "10:-3:1"
   ]
  },
  {
   "cell_type": "code",
   "execution_count": 85,
   "id": "b9616a7e",
   "metadata": {},
   "outputs": [
    {
     "name": "stdout",
     "output_type": "stream",
     "text": [
      "\n",
      "ans =\n",
      "\n",
      "    1.0000    1.6667    2.3333    3.0000\n",
      "\n",
      "\n"
     ]
    }
   ],
   "source": [
    "linspace(1,3,4)"
   ]
  },
  {
   "cell_type": "code",
   "execution_count": 57,
   "id": "f476aa79",
   "metadata": {},
   "outputs": [
    {
     "name": "stdout",
     "output_type": "stream",
     "text": [
      "\n",
      "aaa(:,:,1) =\n",
      "\n",
      "    0.5472    0.2575    0.8143\n",
      "    0.1386    0.8407    0.2435\n",
      "    0.1493    0.2543    0.9293\n",
      "\n",
      "\n",
      "aaa(:,:,2) =\n",
      "\n",
      "    0.3500    0.6160    0.8308\n",
      "    0.1966    0.4733    0.5853\n",
      "    0.2511    0.3517    0.5497\n",
      "\n",
      "\n",
      "aaa(:,:,3) =\n",
      "\n",
      "    0.9172    0.7537    0.0759\n",
      "    0.2858    0.3804    0.0540\n",
      "    0.7572    0.5678    0.5308\n",
      "\n",
      "\n",
      "ans =\n",
      "\n",
      "     3\n",
      "\n",
      "\n",
      "ans =\n",
      "\n",
      "    27\n",
      "\n",
      "\n",
      "ans =\n",
      "\n",
      "     3     3     3\n",
      "\n",
      "\n"
     ]
    }
   ],
   "source": [
    "% dim=3\n",
    "aaa = rand(3,3,3)\n",
    "ndims(aaa)\n",
    "numel(aaa)\n",
    "size(aaa)"
   ]
  },
  {
   "cell_type": "code",
   "execution_count": 25,
   "id": "dcf95475",
   "metadata": {},
   "outputs": [
    {
     "name": "stdout",
     "output_type": "stream",
     "text": [
      "\n",
      "bb =\n",
      "\n",
      "     0     0     0\n",
      "     0     0     0\n",
      "     0     0     0\n",
      "\n",
      "\n",
      "cc =\n",
      "\n",
      "     1     1     1\n",
      "     1     1     1\n",
      "     1     1     1\n",
      "\n",
      "\n",
      "dd =\n",
      "\n",
      "     1     0     0\n",
      "     0     1     0\n",
      "     0     0     1\n",
      "\n",
      "\n",
      "ee =\n",
      "\n",
      "    0.4984    0.5853    0.2551\n",
      "    0.9597    0.2238    0.5060\n",
      "    0.3404    0.7513    0.6991\n",
      "\n",
      "\n",
      "ff =\n",
      "\n",
      "    1.1006   -1.4916    2.3505\n",
      "    1.5442   -0.7423   -0.6156\n",
      "    0.0859   -1.0616    0.7481\n",
      "\n",
      "\n",
      "gg =\n",
      "\n",
      "     3\n",
      "\n",
      "\n",
      "ans =\n",
      "\n",
      "     3     3\n",
      "\n",
      "\n",
      "ans =\n",
      "\n",
      "     3\n",
      "\n",
      "\n",
      "ans =\n",
      "\n",
      "     3\n",
      "\n",
      "\n"
     ]
    }
   ],
   "source": [
    "bb = zeros(3,3)\n",
    "cc = ones(3,3)\n",
    "dd = eye(3,3)\n",
    "ee = rand(3,3)\n",
    "ff = randn(3,3)\n",
    "\n",
    "size(ff)\n",
    "length(ff)\n",
    "\n",
    "size(ff,1)"
   ]
  },
  {
   "cell_type": "markdown",
   "id": "96b5a3ff",
   "metadata": {},
   "source": [
    "#### Round off"
   ]
  },
  {
   "cell_type": "code",
   "execution_count": 6,
   "id": "5431506f",
   "metadata": {
    "scrolled": true
   },
   "outputs": [
    {
     "name": "stdout",
     "output_type": "stream",
     "text": [
      "\n",
      "ans =\n",
      "\n",
      "     1     3\n",
      "\n",
      "\n",
      "ans =\n",
      "\n",
      "     2     3\n",
      "\n",
      "\n",
      "ans =\n",
      "\n",
      "     1     2\n",
      "\n",
      "\n",
      "ans =\n",
      "\n",
      "     1     2\n",
      "\n",
      "\n"
     ]
    }
   ],
   "source": [
    "a = [1.2, 2.6];\n",
    "round(a)\n",
    "ceil(a)\n",
    "floor(a)"
   ]
  },
  {
   "cell_type": "markdown",
   "id": "90d965a1",
   "metadata": {},
   "source": [
    "#### Concatention"
   ]
  },
  {
   "cell_type": "code",
   "execution_count": 24,
   "id": "741b174b",
   "metadata": {},
   "outputs": [
    {
     "name": "stdout",
     "output_type": "stream",
     "text": [
      "\n",
      "a =\n",
      "\n",
      "     1     2     3\n",
      "\n",
      "\n",
      "aa =\n",
      "\n",
      "     1     2     3\n",
      "     1     2     3\n",
      "     1     2     3\n",
      "\n",
      "\n",
      "bb =\n",
      "\n",
      "     1     2     3\n",
      "     4     5     6\n",
      "     7     8     9\n",
      "\n",
      "\n"
     ]
    }
   ],
   "source": [
    "a=[1:3]\n",
    "aa=[a;a;a]\n",
    "\n",
    "bb = [1:3;4:6;7:9]"
   ]
  },
  {
   "cell_type": "markdown",
   "id": "48445062",
   "metadata": {},
   "source": [
    "### Slice and dice\n",
    "* matlab use () in python, normally use []\n",
    "* For 2 dims matrix matlab and numpy are simiar, but matlab from 1, numpy from 0\n",
    "* For 3 dims matrix matlab is different from numpy"
   ]
  },
  {
   "cell_type": "code",
   "execution_count": 27,
   "id": "7b273a58",
   "metadata": {},
   "outputs": [
    {
     "name": "stdout",
     "output_type": "stream",
     "text": [
      "\n",
      "ff =\n",
      "\n",
      "     1     2     3\n",
      "     4     5     6\n",
      "     7     8     9\n",
      "\n",
      "\n",
      "ans =\n",
      "\n",
      "     7\n",
      "\n",
      "\n",
      "ans =\n",
      "\n",
      "     7\n",
      "\n",
      "\n",
      "ff =\n",
      "\n",
      "     1     2     3\n",
      "     4     5     6\n",
      "     7     8     1\n",
      "\n",
      "\n"
     ]
    }
   ],
   "source": [
    "ff = [1:3;4:6;7:9]\n",
    "ff(3)\n",
    "ff(3,1)\n",
    "ff(3,3)=1"
   ]
  },
  {
   "cell_type": "code",
   "execution_count": 29,
   "id": "b6e930ba",
   "metadata": {},
   "outputs": [
    {
     "name": "stdout",
     "output_type": "stream",
     "text": [
      "\n",
      "ff =\n",
      "\n",
      "     1     2     3\n",
      "     4     5     6\n",
      "     7     8     1\n",
      "\n",
      "\n",
      "ans =\n",
      "\n",
      "     1     2     3\n",
      "\n",
      "\n",
      "ans =\n",
      "\n",
      "     1\n",
      "     4\n",
      "     7\n",
      "\n",
      "\n",
      "ans =\n",
      "\n",
      "     5     6\n",
      "     8     1\n",
      "\n",
      "\n",
      "ff =\n",
      "\n",
      "     1     2     3\n",
      "     4    10    10\n",
      "     7    10    10\n",
      "\n",
      "\n"
     ]
    }
   ],
   "source": [
    "ff\n",
    "ff(1,:)\n",
    "ff(:,1)\n",
    "ff(2:end,2:end)\n",
    "ff(2:end,2:end)=10"
   ]
  },
  {
   "cell_type": "code",
   "execution_count": 18,
   "id": "08d7854b",
   "metadata": {},
   "outputs": [
    {
     "name": "stdout",
     "output_type": "stream",
     "text": [
      "\n",
      "ff =\n",
      "\n",
      "     1     2     3\n",
      "     4    10    10\n",
      "     7    10    10\n",
      "\n",
      "\n",
      "ans =\n",
      "\n",
      "  3x3 logical array\n",
      "\n",
      "   0   0   0\n",
      "   0   1   1\n",
      "   0   1   1\n",
      "\n",
      "\n",
      "ans =\n",
      "\n",
      "     5\n",
      "     6\n",
      "     8\n",
      "     9\n",
      "\n",
      "\n",
      "row =\n",
      "\n",
      "     2\n",
      "     3\n",
      "     2\n",
      "     3\n",
      "\n",
      "\n",
      "col =\n",
      "\n",
      "     2\n",
      "     2\n",
      "     3\n",
      "     3\n",
      "\n",
      "\n",
      "ans =\n",
      "\n",
      "    10\n",
      "    10\n",
      "    10\n",
      "    10\n",
      "\n",
      "\n",
      "ans =\n",
      "\n",
      "     1\n",
      "     4\n",
      "     7\n",
      "     2\n",
      "     3\n",
      "\n",
      "\n",
      "ans =\n",
      "\n",
      "     1\n",
      "     4\n",
      "     7\n",
      "     2\n",
      "     3\n",
      "\n",
      "\n"
     ]
    }
   ],
   "source": [
    "ff\n",
    "ff==10\n",
    "find(ff==10)\n",
    "[row,col]=find(ff==10)\n",
    "ff(ff==10)\n",
    "ff(ff<10)\n",
    "ff(find(ff<10))"
   ]
  },
  {
   "cell_type": "code",
   "execution_count": 79,
   "id": "e3125509",
   "metadata": {
    "scrolled": true
   },
   "outputs": [
    {
     "name": "stdout",
     "output_type": "stream",
     "text": [
      "\n",
      "xxx =\n",
      "\n",
      "     1     2     3     4     5     6     7     8     9    10    11    12    13    14    15    16    17    18    19    20    21    22    23    24    25    26    27\n",
      "\n",
      "\n",
      "xxx(:,:,1) =\n",
      "\n",
      "     1     4     7\n",
      "     2     5     8\n",
      "     3     6     9\n",
      "\n",
      "\n",
      "xxx(:,:,2) =\n",
      "\n",
      "    10    13    16\n",
      "    11    14    17\n",
      "    12    15    18\n",
      "\n",
      "\n",
      "xxx(:,:,3) =\n",
      "\n",
      "    19    22    25\n",
      "    20    23    26\n",
      "    21    24    27\n",
      "\n",
      "\n"
     ]
    }
   ],
   "source": [
    "xxx=[1:27]\n",
    "xxx=reshape(xxx,[3,3,3])"
   ]
  },
  {
   "cell_type": "code",
   "execution_count": 84,
   "id": "41083e5b",
   "metadata": {},
   "outputs": [
    {
     "name": "stdout",
     "output_type": "stream",
     "text": [
      "\n",
      "ans(:,:,1) =\n",
      "\n",
      "     1\n",
      "\n",
      "\n",
      "ans(:,:,2) =\n",
      "\n",
      "    10\n",
      "\n",
      "\n",
      "ans(:,:,3) =\n",
      "\n",
      "    19\n",
      "\n",
      "\n"
     ]
    }
   ],
   "source": [
    "xxx(1,1,:)"
   ]
  },
  {
   "cell_type": "code",
   "execution_count": 80,
   "id": "9c959887",
   "metadata": {},
   "outputs": [
    {
     "name": "stdout",
     "output_type": "stream",
     "text": [
      "\n",
      "ans(:,:,1) =\n",
      "\n",
      "     1     4     7\n",
      "\n",
      "\n",
      "ans(:,:,2) =\n",
      "\n",
      "    10    13    16\n",
      "\n",
      "\n",
      "ans(:,:,3) =\n",
      "\n",
      "    19    22    25\n",
      "\n",
      "\n"
     ]
    }
   ],
   "source": [
    "xxx(1,:,:)"
   ]
  },
  {
   "cell_type": "code",
   "execution_count": 81,
   "id": "11761c03",
   "metadata": {},
   "outputs": [
    {
     "name": "stdout",
     "output_type": "stream",
     "text": [
      "\n",
      "ans(:,:,1) =\n",
      "\n",
      "     1\n",
      "     2\n",
      "     3\n",
      "\n",
      "\n",
      "ans(:,:,2) =\n",
      "\n",
      "    10\n",
      "    11\n",
      "    12\n",
      "\n",
      "\n",
      "ans(:,:,3) =\n",
      "\n",
      "    19\n",
      "    20\n",
      "    21\n",
      "\n",
      "\n"
     ]
    }
   ],
   "source": [
    "xxx(:,1,:)"
   ]
  },
  {
   "cell_type": "code",
   "execution_count": 82,
   "id": "697f82c7",
   "metadata": {},
   "outputs": [
    {
     "name": "stdout",
     "output_type": "stream",
     "text": [
      "\n",
      "ans =\n",
      "\n",
      "     1     4     7\n",
      "     2     5     8\n",
      "     3     6     9\n",
      "\n",
      "\n"
     ]
    }
   ],
   "source": [
    "xxx(:,:,1)"
   ]
  },
  {
   "cell_type": "markdown",
   "id": "dfdad2ea",
   "metadata": {},
   "source": [
    "### Operations\n"
   ]
  },
  {
   "cell_type": "code",
   "execution_count": 2,
   "id": "e4bffc53",
   "metadata": {},
   "outputs": [
    {
     "name": "stdout",
     "output_type": "stream",
     "text": [
      "\n",
      "a =\n",
      "\n",
      "     1     2\n",
      "     3     4\n",
      "\n",
      "\n",
      "b =\n",
      "\n",
      "     5     6\n",
      "     7     8\n",
      "\n",
      "\n",
      "ans =\n",
      "\n",
      "     5    12\n",
      "    21    32\n",
      "\n",
      "\n",
      "ans =\n",
      "\n",
      "    19    22\n",
      "    43    50\n",
      "\n",
      "\n",
      "ans =\n",
      "\n",
      "     7    10\n",
      "    15    22\n",
      "\n",
      "\n",
      "ans =\n",
      "\n",
      "     1     4\n",
      "     9    16\n",
      "\n",
      "\n"
     ]
    }
   ],
   "source": [
    "a = [1 2; 3 4]\n",
    "b = [5 6; 7 8]\n",
    "a.*b\n",
    "a * b\n",
    "\n",
    "a^2\n",
    "a.^2\n"
   ]
  },
  {
   "cell_type": "code",
   "execution_count": 21,
   "id": "bcc9a66e",
   "metadata": {},
   "outputs": [
    {
     "name": "stdout",
     "output_type": "stream",
     "text": [
      "\n",
      "ans =\n",
      "\n",
      "     1     2     5     6\n",
      "     3     4     7     8\n",
      "\n",
      "\n",
      "ans =\n",
      "\n",
      "     1     2\n",
      "     3     4\n",
      "     5     6\n",
      "     7     8\n",
      "\n",
      "\n"
     ]
    }
   ],
   "source": [
    "[a,b]\n",
    "[a;b]"
   ]
  },
  {
   "cell_type": "code",
   "execution_count": 1,
   "id": "d0e3598b",
   "metadata": {},
   "outputs": [
    {
     "name": "stdout",
     "output_type": "stream",
     "text": [
      "\n",
      "c =\n",
      "\n",
      "     1     2     3\n",
      "     4     5     6\n",
      "\n",
      "\n",
      "d =\n",
      "\n",
      "     1     4\n",
      "     2     5\n",
      "     3     6\n",
      "\n",
      "\n"
     ]
    }
   ],
   "source": [
    "c = [1,2,3;4,5,6]\n",
    "d = c'"
   ]
  },
  {
   "cell_type": "code",
   "execution_count": 2,
   "id": "c0989d28",
   "metadata": {},
   "outputs": [
    {
     "name": "stdout",
     "output_type": "stream",
     "text": [
      "\n",
      "ans =\n",
      "\n",
      "    2.5000    3.5000    4.5000\n",
      "\n",
      "\n",
      "ans =\n",
      "\n",
      "    3.5000\n",
      "\n",
      "\n",
      "ans =\n",
      "\n",
      "    2.5000    3.5000    4.5000\n",
      "\n",
      "\n",
      "ans =\n",
      "\n",
      "     2\n",
      "     5\n",
      "\n",
      "\n"
     ]
    }
   ],
   "source": [
    "% ean along the axis to eliminate that axis\n",
    "mean(c)\n",
    "mean(c,'all')\n",
    "mean(c,1)\n",
    "mean(c,2)"
   ]
  },
  {
   "cell_type": "code",
   "execution_count": 93,
   "id": "69b318b1",
   "metadata": {},
   "outputs": [
    {
     "name": "stdout",
     "output_type": "stream",
     "text": [
      "\n",
      "c =\n",
      "\n",
      "     1\n",
      "\n",
      "\n",
      "d =\n",
      "\n",
      "     0\n",
      "\n",
      "\n",
      "ans =\n",
      "\n",
      "  logical\n",
      "\n",
      "   0\n",
      "\n",
      "\n",
      "ans =\n",
      "\n",
      "  logical\n",
      "\n",
      "   1\n",
      "\n",
      "\n"
     ]
    }
   ],
   "source": [
    "c = 1\n",
    "d = 0\n",
    "\n",
    "c&&d\n",
    "c||d"
   ]
  },
  {
   "cell_type": "code",
   "execution_count": 10,
   "id": "39e9b293",
   "metadata": {},
   "outputs": [
    {
     "name": "stdout",
     "output_type": "stream",
     "text": [
      "\n",
      "ans =\n",
      "\n",
      "  logical\n",
      "\n",
      "   1\n",
      "\n",
      "\n",
      "ans =\n",
      "\n",
      "  logical\n",
      "\n",
      "   0\n",
      "\n",
      "\n",
      "ans =\n",
      "\n",
      "  logical\n",
      "\n",
      "   0\n",
      "\n",
      "\n",
      "ans =\n",
      "\n",
      "  logical\n",
      "\n",
      "   1\n",
      "\n",
      "\n"
     ]
    }
   ],
   "source": [
    "5==5\n",
    "5<3\n",
    "2==4\n",
    "2~=4"
   ]
  },
  {
   "cell_type": "markdown",
   "id": "f592a681",
   "metadata": {},
   "source": [
    "#### If-Else and Loop"
   ]
  },
  {
   "cell_type": "code",
   "execution_count": 99,
   "id": "9a9070bd",
   "metadata": {},
   "outputs": [
    {
     "name": "stdout",
     "output_type": "stream",
     "text": [
      "a != 4 or 5\n"
     ]
    }
   ],
   "source": [
    "a = 6;\n",
    "if a==4\n",
    "    fprintf('a = 4\\n')\n",
    "elseif a==5\n",
    "    fprintf('a = 5\\n')\n",
    "else\n",
    "    fprintf('a != 4 or 5')\n",
    "end"
   ]
  },
  {
   "cell_type": "code",
   "execution_count": 102,
   "id": "97a1bd04",
   "metadata": {},
   "outputs": [
    {
     "name": "stdout",
     "output_type": "stream",
     "text": [
      "1\n",
      "2\n",
      "3\n",
      "\n"
     ]
    }
   ],
   "source": [
    "for i=1:3\n",
    "    fprintf('%i\\n',i)\n",
    "end"
   ]
  },
  {
   "cell_type": "code",
   "execution_count": null,
   "id": "c2f6a7f7",
   "metadata": {},
   "outputs": [],
   "source": []
  }
 ],
 "metadata": {
  "kernelspec": {
   "display_name": "Matlab",
   "language": "matlab",
   "name": "matlab"
  },
  "language_info": {
   "codemirror_mode": "octave",
   "file_extension": ".m",
   "help_links": [
    {
     "text": "MetaKernel Magics",
     "url": "https://metakernel.readthedocs.io/en/latest/source/README.html"
    }
   ],
   "mimetype": "text/x-octave",
   "name": "matlab",
   "version": "0.17.1"
  },
  "toc": {
   "base_numbering": 1,
   "nav_menu": {},
   "number_sections": true,
   "sideBar": true,
   "skip_h1_title": false,
   "title_cell": "Table of Contents",
   "title_sidebar": "Contents",
   "toc_cell": false,
   "toc_position": {},
   "toc_section_display": true,
   "toc_window_display": true
  },
  "varInspector": {
   "cols": {
    "lenName": 16,
    "lenType": 16,
    "lenVar": 40
   },
   "kernels_config": {
    "python": {
     "delete_cmd_postfix": "",
     "delete_cmd_prefix": "del ",
     "library": "var_list.py",
     "varRefreshCmd": "print(var_dic_list())"
    },
    "r": {
     "delete_cmd_postfix": ") ",
     "delete_cmd_prefix": "rm(",
     "library": "var_list.r",
     "varRefreshCmd": "cat(var_dic_list()) "
    }
   },
   "types_to_exclude": [
    "module",
    "function",
    "builtin_function_or_method",
    "instance",
    "_Feature"
   ],
   "window_display": false
  }
 },
 "nbformat": 4,
 "nbformat_minor": 5
}
