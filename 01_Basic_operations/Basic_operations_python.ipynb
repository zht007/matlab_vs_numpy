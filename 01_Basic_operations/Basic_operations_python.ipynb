{
 "cells": [
  {
   "cell_type": "markdown",
   "id": "a9fe2a35",
   "metadata": {},
   "source": [
    "### Initialization"
   ]
  },
  {
   "cell_type": "code",
   "execution_count": 1,
   "id": "5c9ac300-af8c-40f5-8281-ea6b1392e38d",
   "metadata": {},
   "outputs": [],
   "source": [
    "import numpy as np\n",
    "from scipy import io, integrate, linalg, signal\n",
    "from scipy.sparse.linalg import eigs"
   ]
  },
  {
   "cell_type": "markdown",
   "id": "28c58b4f",
   "metadata": {},
   "source": [
    "### Scalar and Tensor"
   ]
  },
  {
   "cell_type": "markdown",
   "id": "95f95ad1",
   "metadata": {},
   "source": [
    "#### Creation"
   ]
  },
  {
   "cell_type": "code",
   "execution_count": 2,
   "id": "078428c2",
   "metadata": {},
   "outputs": [
    {
     "name": "stdout",
     "output_type": "stream",
     "text": [
      "0\n",
      "1\n",
      "()\n"
     ]
    }
   ],
   "source": [
    "# dim = 0\n",
    "a = np.array(12.3)\n",
    "print(a.ndim)\n",
    "print(a.size)\n",
    "print(a.shape)"
   ]
  },
  {
   "cell_type": "code",
   "execution_count": 3,
   "id": "4bc484cf",
   "metadata": {},
   "outputs": [
    {
     "name": "stdout",
     "output_type": "stream",
     "text": [
      "1\n",
      "1\n",
      "(1,)\n"
     ]
    }
   ],
   "source": [
    "# dim = 1\n",
    "a = np.array([12.3])\n",
    "print(a.ndim)\n",
    "print(a.size)\n",
    "print(a.shape)"
   ]
  },
  {
   "cell_type": "code",
   "execution_count": 4,
   "id": "a07c761b",
   "metadata": {},
   "outputs": [
    {
     "name": "stdout",
     "output_type": "stream",
     "text": [
      "[[1 2 3]\n",
      " [4 5 6]\n",
      " [7 8 9]]\n",
      "2\n",
      "9\n",
      "(3, 3)\n"
     ]
    }
   ],
   "source": [
    "# dim = 2\n",
    "aa = np.array([[1,2,3],[4,5,6],[7,8,9]])\n",
    "print(aa)\n",
    "print(aa.ndim)\n",
    "print(aa.size)\n",
    "print(aa.shape)"
   ]
  },
  {
   "cell_type": "code",
   "execution_count": 15,
   "id": "2d5c8c24",
   "metadata": {},
   "outputs": [
    {
     "name": "stdout",
     "output_type": "stream",
     "text": [
      "[ 1  2  3  4  5  6  7  8  9 10]\n",
      "[ 1  4  7 10]\n",
      "[10  7  4  1]\n"
     ]
    }
   ],
   "source": [
    "print(np.arange(1,11))\n",
    "print(np.arange(1,11,3))\n",
    "print(np.arange(10,0,-3))"
   ]
  },
  {
   "cell_type": "code",
   "execution_count": 44,
   "id": "59154222",
   "metadata": {},
   "outputs": [
    {
     "name": "stdout",
     "output_type": "stream",
     "text": [
      "[[0.93905792 0.06518302 0.22031389]\n",
      " [0.53200729 0.0404185  0.79032899]\n",
      " [0.069327   0.42411222 0.39632424]]\n",
      "0.7903289923551416\n",
      "0.7903289923551416\n"
     ]
    }
   ],
   "source": [
    "a = np.random.rand(3,3)\n",
    "print(a)\n",
    "\n",
    "print(a[1,2])\n",
    "print(a[1][2])"
   ]
  },
  {
   "cell_type": "code",
   "execution_count": 116,
   "id": "b85df713",
   "metadata": {},
   "outputs": [
    {
     "data": {
      "text/plain": [
       "array([1.        , 1.66666667, 2.33333333, 3.        ])"
      ]
     },
     "execution_count": 116,
     "metadata": {},
     "output_type": "execute_result"
    }
   ],
   "source": [
    "np.linspace(1,3,4)"
   ]
  },
  {
   "cell_type": "code",
   "execution_count": 5,
   "id": "13d572cb",
   "metadata": {},
   "outputs": [
    {
     "name": "stdout",
     "output_type": "stream",
     "text": [
      "[[[0.13896147 0.73071462 0.92778573]\n",
      "  [0.21489156 0.20297691 0.32441293]\n",
      "  [0.9894482  0.55849008 0.48525878]]\n",
      "\n",
      " [[0.44495944 0.10582475 0.73139261]\n",
      "  [0.47075247 0.04662209 0.92018954]\n",
      "  [0.65626017 0.97571283 0.8082114 ]]\n",
      "\n",
      " [[0.93888836 0.60246946 0.59431899]\n",
      "  [0.1214641  0.74977279 0.82956858]\n",
      "  [0.09943451 0.977709   0.52522371]]]\n",
      "3\n",
      "27\n",
      "(3, 3, 3)\n"
     ]
    }
   ],
   "source": [
    "# dim=3\n",
    "aaa = np.random.rand(3,3,3)\n",
    "print(aaa)\n",
    "print(aaa.ndim)\n",
    "print(aaa.size)\n",
    "print(aaa.shape)"
   ]
  },
  {
   "cell_type": "code",
   "execution_count": 38,
   "id": "d3726fa0",
   "metadata": {},
   "outputs": [
    {
     "name": "stdout",
     "output_type": "stream",
     "text": [
      "[[0. 0. 0.]\n",
      " [0. 0. 0.]\n",
      " [0. 0. 0.]] \n",
      " \n",
      " [[1. 1. 1.]\n",
      " [1. 1. 1.]\n",
      " [1. 1. 1.]] \n",
      " \n",
      " [[1. 0. 0.]\n",
      " [0. 1. 0.]\n",
      " [0. 0. 1.]] \n",
      " \n",
      " [[0.8311934  0.09295303 0.35682259]\n",
      " [0.92934338 0.52913129 0.49694809]\n",
      " [0.21985509 0.08361343 0.2928492 ]] \n",
      " \n",
      " [[-0.57048133  1.17876483  1.43911268]\n",
      " [ 0.29674343  1.95041386 -0.59139023]\n",
      " [-1.04293995  0.71040104 -0.14563049]]\n"
     ]
    }
   ],
   "source": [
    "bb = np.zeros((3,3))\n",
    "cc = np.ones((3,3))\n",
    "dd = np.eye(3)\n",
    "ee = np.random.rand(3,3)\n",
    "ff = np.random.randn(3,3)\n",
    "\n",
    "print(bb,'\\n','\\n',cc,'\\n','\\n',dd,'\\n','\\n',ee,'\\n','\\n',ff)\n"
   ]
  },
  {
   "cell_type": "markdown",
   "id": "0ab89111",
   "metadata": {},
   "source": [
    "#### Round off\n",
    ">Note: the outputs are floats"
   ]
  },
  {
   "cell_type": "code",
   "execution_count": 6,
   "id": "bda6b1d2",
   "metadata": {},
   "outputs": [
    {
     "name": "stdout",
     "output_type": "stream",
     "text": [
      "[1. 3.]\n",
      "[2. 3.]\n",
      "[1. 2.]\n"
     ]
    }
   ],
   "source": [
    "a = np.array([1.2,2.6])\n",
    "# outputs are floats\n",
    "print(np.around(a)) \n",
    "print(np.ceil(a))\n",
    "print(np.floor(a))\n"
   ]
  },
  {
   "cell_type": "markdown",
   "id": "3d2dde4b",
   "metadata": {},
   "source": [
    "#### Concatention"
   ]
  },
  {
   "cell_type": "code",
   "execution_count": 26,
   "id": "72775c95",
   "metadata": {},
   "outputs": [
    {
     "name": "stdout",
     "output_type": "stream",
     "text": [
      "[[1 2 3]\n",
      " [1 2 3]]\n",
      "[[1 2 3]\n",
      " [4 5 6]\n",
      " [7 8 9]]\n"
     ]
    }
   ],
   "source": [
    "a = np.arange(1,4)\n",
    "aa = np.vstack((a,a))\n",
    "print(aa)\n",
    "np.concatenate\n",
    "bb = np.vstack((np.arange(1,4),np.arange(4,7),np.arange(7,10)))\n",
    "print(bb)"
   ]
  },
  {
   "cell_type": "markdown",
   "id": "1437419f",
   "metadata": {},
   "source": [
    "### Slice and dice\n",
    "* matlab use () in python, normally use []\n",
    "* For 2 dims matrix matlab and numpy are simiar, but matlab from 1, numpy from 0\n",
    "* For 3 dims matrix matlab is different from numpy"
   ]
  },
  {
   "cell_type": "code",
   "execution_count": 45,
   "id": "9c5ca63d",
   "metadata": {},
   "outputs": [
    {
     "name": "stdout",
     "output_type": "stream",
     "text": [
      "[[1 2 3]\n",
      " [4 5 6]\n",
      " [7 8 9]]\n",
      "[7 8 9]\n",
      "[1 4 7]\n",
      "7\n",
      "7\n",
      "[[1 2 3]\n",
      " [4 5 6]\n",
      " [7 8 1]]\n"
     ]
    }
   ],
   "source": [
    "ff=np.array([[1,2,3],[4,5,6],[7,8,9]])\n",
    "print(ff)\n",
    "print(ff[2])\n",
    "print(ff[:,0])\n",
    "print(ff[2,0])\n",
    "print(ff[2][0])\n",
    "ff[2,2]=1\n",
    "print(ff)"
   ]
  },
  {
   "cell_type": "code",
   "execution_count": 23,
   "id": "17566444",
   "metadata": {},
   "outputs": [
    {
     "name": "stdout",
     "output_type": "stream",
     "text": [
      "[[1 2 3]\n",
      " [4 5 6]\n",
      " [7 8 1]]\n",
      "[1 2 3]\n",
      "[1 4 7]\n",
      "[[5 6]\n",
      " [8 1]]\n",
      "[[ 1  2  3]\n",
      " [ 4 10 10]\n",
      " [ 7 10 10]]\n"
     ]
    }
   ],
   "source": [
    "print(ff)\n",
    "print(ff[0,:])\n",
    "print(ff[:,0])\n",
    "print(ff[1:,1:])\n",
    "ff[1:,1:]=10\n",
    "print(ff)"
   ]
  },
  {
   "cell_type": "code",
   "execution_count": 28,
   "id": "10a29a35",
   "metadata": {},
   "outputs": [
    {
     "name": "stdout",
     "output_type": "stream",
     "text": [
      "[[ 1  2  3]\n",
      " [ 4 10 10]\n",
      " [ 7 10 10]]\n",
      "[[False False False]\n",
      " [False  True  True]\n",
      " [False  True  True]]\n",
      "(array([1, 1, 2, 2], dtype=int64), array([1, 2, 1, 2], dtype=int64))\n"
     ]
    },
    {
     "data": {
      "text/plain": [
       "array([1, 2, 3, 4, 7])"
      ]
     },
     "execution_count": 28,
     "metadata": {},
     "output_type": "execute_result"
    }
   ],
   "source": [
    "print(ff)\n",
    "print(ff==10)\n",
    "print(np.nonzero(ff==10))\n",
    "ff[ff<10]"
   ]
  },
  {
   "cell_type": "code",
   "execution_count": 8,
   "id": "59bcc7f9",
   "metadata": {},
   "outputs": [
    {
     "name": "stdout",
     "output_type": "stream",
     "text": [
      "[[[ 1  2  3]\n",
      "  [ 4  5  6]\n",
      "  [ 7  8  9]]\n",
      "\n",
      " [[10 11 12]\n",
      "  [13 14 15]\n",
      "  [16 17 18]]\n",
      "\n",
      " [[19 20 21]\n",
      "  [22 23 24]\n",
      "  [25 26 27]]]\n"
     ]
    }
   ],
   "source": [
    "xxx = np.arange(1,28).reshape(3,3,3)\n",
    "print(xxx)"
   ]
  },
  {
   "cell_type": "code",
   "execution_count": 9,
   "id": "7c1ebd10",
   "metadata": {},
   "outputs": [
    {
     "data": {
      "text/plain": [
       "array([[1, 2, 3],\n",
       "       [4, 5, 6],\n",
       "       [7, 8, 9]])"
      ]
     },
     "execution_count": 9,
     "metadata": {},
     "output_type": "execute_result"
    }
   ],
   "source": [
    "xxx[0,0:]"
   ]
  },
  {
   "cell_type": "code",
   "execution_count": 10,
   "id": "4e415c3d-4397-45f6-8994-97495f1e61f7",
   "metadata": {},
   "outputs": [
    {
     "name": "stdout",
     "output_type": "stream",
     "text": [
      "[[1 2 3]\n",
      " [4 5 6]\n",
      " [7 8 9]]\n",
      "[[ 1  2  3]\n",
      " [10 11 12]\n",
      " [19 20 21]]\n",
      "[[ 1  4  7]\n",
      " [10 13 16]\n",
      " [19 22 25]]\n"
     ]
    }
   ],
   "source": [
    "print(xxx[0,:,:])\n",
    "print(xxx[:,0,:])\n",
    "print(xxx[:,:,0])"
   ]
  },
  {
   "cell_type": "markdown",
   "id": "f14c7a4f",
   "metadata": {},
   "source": [
    "### Operations"
   ]
  },
  {
   "cell_type": "code",
   "execution_count": 13,
   "id": "ca66e9da",
   "metadata": {},
   "outputs": [
    {
     "name": "stdout",
     "output_type": "stream",
     "text": [
      "a=\n",
      " [[1 2]\n",
      " [3 4]] \n",
      " b= \n",
      " [[5 6]\n",
      " [7 8]]\n",
      "[[ 5 12]\n",
      " [21 32]]\n",
      "[[19 22]\n",
      " [43 50]]\n",
      "[[ 1  4]\n",
      " [ 9 16]]\n",
      "[[ 7 10]\n",
      " [15 22]]\n"
     ]
    }
   ],
   "source": [
    "a = np.array([[1,2],[3,4]])\n",
    "b = np.array([[5,6],[7,8]])\n",
    "\n",
    "print('a=\\n', a,'\\n b= \\n', b)\n",
    "print(a*b)\n",
    "print(a@b)\n",
    "print(a**2)\n",
    "print(a@a)"
   ]
  },
  {
   "cell_type": "code",
   "execution_count": 31,
   "id": "304ad7ab",
   "metadata": {},
   "outputs": [
    {
     "name": "stdout",
     "output_type": "stream",
     "text": [
      "[[1 2 5 6]\n",
      " [3 4 7 8]]\n",
      "[[1 2]\n",
      " [3 4]\n",
      " [5 6]\n",
      " [7 8]]\n"
     ]
    }
   ],
   "source": [
    "print(np.concatenate((a,b),1))\n",
    "print(np.concatenate((a,b),0))"
   ]
  },
  {
   "cell_type": "code",
   "execution_count": 3,
   "id": "303a9e07",
   "metadata": {},
   "outputs": [
    {
     "name": "stdout",
     "output_type": "stream",
     "text": [
      "[[1 2 3]\n",
      " [4 5 6]]\n",
      "[[1 4]\n",
      " [2 5]\n",
      " [3 6]]\n"
     ]
    }
   ],
   "source": [
    "c = np.array([[1,2,3],[4,5,6]])\n",
    "print(c)\n",
    "d = c.T\n",
    "print(d)"
   ]
  },
  {
   "cell_type": "code",
   "execution_count": 9,
   "id": "23fd34d1",
   "metadata": {},
   "outputs": [
    {
     "name": "stdout",
     "output_type": "stream",
     "text": [
      "3.5\n",
      "[2.5 3.5 4.5]\n",
      "[2. 5.]\n"
     ]
    }
   ],
   "source": [
    "# mean along the axis to eliminate that axis\n",
    "print(np.mean(c))\n",
    "print(np.mean(c,0))\n",
    "print(np.mean(c,1))"
   ]
  },
  {
   "cell_type": "code",
   "execution_count": 124,
   "id": "3cccb0ae",
   "metadata": {},
   "outputs": [
    {
     "name": "stdout",
     "output_type": "stream",
     "text": [
      "False\n",
      "True\n"
     ]
    }
   ],
   "source": [
    "c = True\n",
    "d = False\n",
    "print(c and d)\n",
    "print(c or d)"
   ]
  },
  {
   "cell_type": "code",
   "execution_count": 12,
   "id": "f3bbaa77",
   "metadata": {},
   "outputs": [
    {
     "name": "stdout",
     "output_type": "stream",
     "text": [
      "True\n",
      "False\n",
      "False\n",
      "True\n"
     ]
    }
   ],
   "source": [
    "print(5==5)\n",
    "print(5<3)\n",
    "print(2==4)\n",
    "print(2!=4)"
   ]
  },
  {
   "cell_type": "markdown",
   "id": "9bf9c418",
   "metadata": {},
   "source": [
    "#### If-else and Loop"
   ]
  },
  {
   "cell_type": "code",
   "execution_count": 129,
   "id": "7dd300ae",
   "metadata": {},
   "outputs": [
    {
     "name": "stdout",
     "output_type": "stream",
     "text": [
      "a != 4 or 5\n"
     ]
    }
   ],
   "source": [
    "a = 6\n",
    "if a ==4:\n",
    "    print('a = 4')\n",
    "elif a==5:\n",
    "    print('a = 5')\n",
    "else:\n",
    "    print('a != 4 or 5')"
   ]
  },
  {
   "cell_type": "code",
   "execution_count": 131,
   "id": "634b83da",
   "metadata": {},
   "outputs": [
    {
     "name": "stdout",
     "output_type": "stream",
     "text": [
      "1\n",
      "2\n",
      "3\n"
     ]
    }
   ],
   "source": [
    "for i in range(1,4):\n",
    "    print(i)"
   ]
  },
  {
   "cell_type": "code",
   "execution_count": null,
   "id": "6453b035",
   "metadata": {},
   "outputs": [],
   "source": []
  }
 ],
 "metadata": {
  "kernelspec": {
   "display_name": "Python 3 (ipykernel)",
   "language": "python",
   "name": "python3"
  },
  "language_info": {
   "codemirror_mode": {
    "name": "ipython",
    "version": 3
   },
   "file_extension": ".py",
   "mimetype": "text/x-python",
   "name": "python",
   "nbconvert_exporter": "python",
   "pygments_lexer": "ipython3",
   "version": "3.8.13"
  },
  "toc": {
   "base_numbering": 1,
   "nav_menu": {},
   "number_sections": true,
   "sideBar": true,
   "skip_h1_title": false,
   "title_cell": "Table of Contents",
   "title_sidebar": "Contents",
   "toc_cell": false,
   "toc_position": {},
   "toc_section_display": true,
   "toc_window_display": true
  },
  "varInspector": {
   "cols": {
    "lenName": 16,
    "lenType": 16,
    "lenVar": 40
   },
   "kernels_config": {
    "python": {
     "delete_cmd_postfix": "",
     "delete_cmd_prefix": "del ",
     "library": "var_list.py",
     "varRefreshCmd": "print(var_dic_list())"
    },
    "r": {
     "delete_cmd_postfix": ") ",
     "delete_cmd_prefix": "rm(",
     "library": "var_list.r",
     "varRefreshCmd": "cat(var_dic_list()) "
    }
   },
   "types_to_exclude": [
    "module",
    "function",
    "builtin_function_or_method",
    "instance",
    "_Feature"
   ],
   "window_display": true
  }
 },
 "nbformat": 4,
 "nbformat_minor": 5
}
